{
 "cells": [
  {
   "cell_type": "code",
   "execution_count": 107,
   "metadata": {},
   "outputs": [],
   "source": [
    "from transformers import pipeline\n",
    "classifier = pipeline(\"image-classification\", model=\"dima806/facial_emotions_image_detection\")"
   ]
  },
  {
   "cell_type": "code",
   "execution_count": 76,
   "metadata": {},
   "outputs": [
    {
     "data": {
      "text/plain": [
       "'happy'"
      ]
     },
     "execution_count": 76,
     "metadata": {},
     "output_type": "execute_result"
    }
   ],
   "source": [
    "x=classifier('C:/Users/sriyo/Downloads/happy.jpeg')\n",
    "x[0]['label']"
   ]
  },
  {
   "cell_type": "code",
   "execution_count": 77,
   "metadata": {},
   "outputs": [],
   "source": [
    "import cv2\n",
    "import numpy as np\n",
    "from time import sleep\n",
    "from keras.preprocessing.image import img_to_array\n",
    "from keras.preprocessing import image"
   ]
  },
  {
   "cell_type": "code",
   "execution_count": 78,
   "metadata": {},
   "outputs": [],
   "source": [
    "import cv2\n",
    "import numpy as np\n",
    "from transformers import pipeline\n",
    "from PIL import Image\n",
    "import time\n",
    "\n",
    "classifier=pipeline(\"image-classification\", model=\"dima806/facial_emotions_image_detection\")\n",
    "\n",
    "face_classifier=cv2.CascadeClassifier('haarcascade.xml')\n",
    "\n",
    "cap=cv2.VideoCapture(0)\n",
    "\n",
    "start_time=time.time()\n",
    "while True:\n",
    "    _, frame=cap.read()\n",
    "    gray=cv2.cvtColor(frame, cv2.COLOR_BGR2GRAY)\n",
    "    faces=face_classifier.detectMultiScale(gray)\n",
    "    for (x,y,w,h) in faces:\n",
    "        cv2.rectangle(frame,(x,y),(x+w,y+h),(0,255,255),2)\n",
    "        roi_gray=gray[y:y + h, x:x + w]\n",
    "        roi_gray=cv2.resize(roi_gray, (48,48),interpolation=cv2.INTER_AREA)\n",
    "        if np.sum([roi_gray])!= 0:\n",
    "            roi_pil=Image.fromarray(roi_gray)\n",
    "            prediction=classifier(roi_pil)\n",
    "            label=prediction[0]['label']\n",
    "            label_position=(x, y)\n",
    "            cv2.putText(frame,label,label_position,cv2.FONT_HERSHEY_SIMPLEX,1,(0, 255, 0), 2)\n",
    "        else:\n",
    "            cv2.putText(frame, 'No Faces', (30, 80), cv2.FONT_HERSHEY_SIMPLEX, 1, (0, 255, 0), 2)\n",
    "\n",
    "    cv2.imshow('Emotion Detector', frame)\n",
    "\n",
    "    elapsed_time = time.time() - start_time\n",
    "    if elapsed_time >= 10:\n",
    "        emotion=label\n",
    "        break\n",
    "\n",
    "    if cv2.waitKey(1) & 0xFF == ord('q'):\n",
    "        break\n",
    "\n",
    "cap.release()\n",
    "cv2.destroyAllWindows()\n"
   ]
  },
  {
   "cell_type": "code",
   "execution_count": 79,
   "metadata": {},
   "outputs": [],
   "source": [
    "cap.release()\n",
    "cv2.destroyAllWindows()"
   ]
  },
  {
   "cell_type": "code",
   "execution_count": 80,
   "metadata": {},
   "outputs": [],
   "source": [
    "import openai\n",
    "import json"
   ]
  },
  {
   "cell_type": "markdown",
   "metadata": {},
   "source": [
    "# Paste your OpenAI API Key here "
   ]
  },
  {
   "cell_type": "code",
   "execution_count": 81,
   "metadata": {},
   "outputs": [],
   "source": [
    "\n",
    "openai.api_key = 'sk-'"
   ]
  },
  {
   "cell_type": "code",
   "execution_count": 100,
   "metadata": {},
   "outputs": [],
   "source": [
    "\n",
    "import requests\n",
    "URL=\"https://api.openai.com/v1/chat/completions\"\n",
    "payload={\n",
    "\"model\":\"gpt-3.5-turbo\",\n",
    "\"messages\":[{\"role\":\"user\",\"content\":f'I am feeling {emotion}, suggest me any task in strictly single sentence in english .also mention what emotion im in in the starting of the response. '}],\n",
    "\"temperature\":1,\n",
    "\"top_p\":1.0,\n",
    "\"n\" :1,\n",
    "\"stream\":False,\n",
    "\"presence_penalty\":0,\n",
    "\"frequency_penalty\":0,\n",
    "}\n",
    "headers={\n",
    "\"Content-Type\":\"application/json\",\n",
    "\"Authorization\":f\"Bearer {openai.api_key}\"\n",
    "}\n",
    "response=requests.post(URL,headers=headers,json=payload,stream=False)"
   ]
  },
  {
   "cell_type": "code",
   "execution_count": 101,
   "metadata": {},
   "outputs": [
    {
     "data": {
      "text/plain": [
       "b'{\\n  \"id\": \"chatcmpl-8CgqHiDJkxnvRwX3LKf6oeNMkWEx6\",\\n  \"object\": \"chat.completion\",\\n  \"created\": 1698035313,\\n  \"model\": \"gpt-3.5-turbo-0613\",\\n  \"choices\": [\\n    {\\n      \"index\": 0,\\n      \"message\": {\\n        \"role\": \"assistant\",\\n        \"content\": \"Emotion: Happy\\\\nTask: Spread your happiness by writing a heartfelt message to someone who made a positive impact in your life.\"\\n      },\\n      \"finish_reason\": \"stop\"\\n    }\\n  ],\\n  \"usage\": {\\n    \"prompt_tokens\": 37,\\n    \"completion_tokens\": 26,\\n    \"total_tokens\": 63\\n  }\\n}\\n'"
      ]
     },
     "execution_count": 101,
     "metadata": {},
     "output_type": "execute_result"
    }
   ],
   "source": [
    "response.content"
   ]
  },
  {
   "cell_type": "code",
   "execution_count": 102,
   "metadata": {},
   "outputs": [],
   "source": [
    "data=json.loads(response.content)\n",
    "response_given=data[\"choices\"][0][\"message\"][\"content\"]"
   ]
  },
  {
   "cell_type": "code",
   "execution_count": 105,
   "metadata": {},
   "outputs": [],
   "source": [
    "cleaned_text=response_given.replace('\\n',' ')"
   ]
  },
  {
   "cell_type": "code",
   "execution_count": 106,
   "metadata": {},
   "outputs": [
    {
     "data": {
      "text/plain": [
       "'Emotion: Happy Task: Spread your happiness by writing a heartfelt message to someone who made a positive impact in your life.'"
      ]
     },
     "execution_count": 106,
     "metadata": {},
     "output_type": "execute_result"
    }
   ],
   "source": [
    "cleaned_text"
   ]
  },
  {
   "cell_type": "code",
   "execution_count": null,
   "metadata": {},
   "outputs": [],
   "source": []
  }
 ],
 "metadata": {
  "kernelspec": {
   "display_name": "Python 3",
   "language": "python",
   "name": "python3"
  },
  "language_info": {
   "codemirror_mode": {
    "name": "ipython",
    "version": 3
   },
   "file_extension": ".py",
   "mimetype": "text/x-python",
   "name": "python",
   "nbconvert_exporter": "python",
   "pygments_lexer": "ipython3",
   "version": "3.10.10"
  }
 },
 "nbformat": 4,
 "nbformat_minor": 2
}
